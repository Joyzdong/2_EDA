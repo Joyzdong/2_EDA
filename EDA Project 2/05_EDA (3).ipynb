{
 "cells": [
  {
   "cell_type": "code",
   "execution_count": 1,
   "id": "26d31030",
   "metadata": {},
   "outputs": [],
   "source": [
    "import numpy as np\n",
    "import pandas as pd\n",
    "import matplotlib.pyplot as plt\n",
    "import seaborn as sns\n",
    "\n",
    "import plotly.express as px"
   ]
  },
  {
   "cell_type": "code",
   "execution_count": 2,
   "id": "a024d584",
   "metadata": {},
   "outputs": [],
   "source": [
    "# plt.rcParams['font.family'] = 'Malgun Gothic'  # 폰트 적용 (한글 깨짐 방지)\n",
    "plt.rcParams['font.family'] = 'NanumGothic'\n",
    "plt.rcParams['font.size'] = 14                 # 폰트 크기\n",
    "plt.rcParams['figure.figsize'] = (13, 8)       # figsize 를 전역으로 설정\n",
    "plt.rcParams['axes.unicode_minus'] = False     # -(마이너스) 표기 가능하도록 함"
   ]
  },
  {
   "cell_type": "markdown",
   "id": "370c51f9",
   "metadata": {},
   "source": [
    "# 데이터 로딩"
   ]
  },
  {
   "cell_type": "code",
   "execution_count": 3,
   "id": "7e3f571d",
   "metadata": {},
   "outputs": [],
   "source": [
    "data = pd.read_csv('Global YouTube Statistics2.csv')"
   ]
  },
  {
   "cell_type": "markdown",
   "id": "8b581722",
   "metadata": {},
   "source": [
    "# EDA"
   ]
  },
  {
   "cell_type": "markdown",
   "id": "8e5d70f1",
   "metadata": {},
   "source": [
    "## 3.지역의 인플루언서"
   ]
  },
  {
   "cell_type": "markdown",
   "id": "b4523bcd",
   "metadata": {},
   "source": [
    "다양한 국가의 영향력 있는 유튜브 크리에이터를 식별하고 그들이 전 세계적으로 미치는 영향을 분석합니다"
   ]
  },
  {
   "cell_type": "code",
   "execution_count": 4,
   "id": "925fdcab",
   "metadata": {
    "scrolled": false
   },
   "outputs": [
    {
     "data": {
      "text/html": [
       "<div>\n",
       "<style scoped>\n",
       "    .dataframe tbody tr th:only-of-type {\n",
       "        vertical-align: middle;\n",
       "    }\n",
       "\n",
       "    .dataframe tbody tr th {\n",
       "        vertical-align: top;\n",
       "    }\n",
       "\n",
       "    .dataframe thead th {\n",
       "        text-align: right;\n",
       "    }\n",
       "</style>\n",
       "<table border=\"1\" class=\"dataframe\">\n",
       "  <thead>\n",
       "    <tr style=\"text-align: right;\">\n",
       "      <th></th>\n",
       "      <th>채널명</th>\n",
       "      <th>구독자수</th>\n",
       "      <th>구독자 비율(%)</th>\n",
       "    </tr>\n",
       "  </thead>\n",
       "  <tbody>\n",
       "    <tr>\n",
       "      <th>0</th>\n",
       "      <td>T-Series</td>\n",
       "      <td>245000000</td>\n",
       "      <td>3.1</td>\n",
       "    </tr>\n",
       "    <tr>\n",
       "      <th>1</th>\n",
       "      <td>MrBeast</td>\n",
       "      <td>166000000</td>\n",
       "      <td>2.1</td>\n",
       "    </tr>\n",
       "    <tr>\n",
       "      <th>2</th>\n",
       "      <td>Cocomelon - Nursery Rhymes</td>\n",
       "      <td>162000000</td>\n",
       "      <td>2.0</td>\n",
       "    </tr>\n",
       "    <tr>\n",
       "      <th>3</th>\n",
       "      <td>SET India</td>\n",
       "      <td>159000000</td>\n",
       "      <td>2.0</td>\n",
       "    </tr>\n",
       "    <tr>\n",
       "      <th>4</th>\n",
       "      <td>✿ Kids Diana Show</td>\n",
       "      <td>112000000</td>\n",
       "      <td>1.4</td>\n",
       "    </tr>\n",
       "    <tr>\n",
       "      <th>5</th>\n",
       "      <td>PewDiePie</td>\n",
       "      <td>111000000</td>\n",
       "      <td>1.4</td>\n",
       "    </tr>\n",
       "    <tr>\n",
       "      <th>6</th>\n",
       "      <td>Like Nastya</td>\n",
       "      <td>106000000</td>\n",
       "      <td>1.3</td>\n",
       "    </tr>\n",
       "    <tr>\n",
       "      <th>7</th>\n",
       "      <td>Vlad and Niki</td>\n",
       "      <td>98900000</td>\n",
       "      <td>1.2</td>\n",
       "    </tr>\n",
       "    <tr>\n",
       "      <th>8</th>\n",
       "      <td>Zee Music Company</td>\n",
       "      <td>96700000</td>\n",
       "      <td>1.2</td>\n",
       "    </tr>\n",
       "    <tr>\n",
       "      <th>9</th>\n",
       "      <td>WWE</td>\n",
       "      <td>96000000</td>\n",
       "      <td>1.2</td>\n",
       "    </tr>\n",
       "    <tr>\n",
       "      <th>10</th>\n",
       "      <td>BLACKPINK</td>\n",
       "      <td>89800000</td>\n",
       "      <td>1.1</td>\n",
       "    </tr>\n",
       "    <tr>\n",
       "      <th>11</th>\n",
       "      <td>Goldmines</td>\n",
       "      <td>86900000</td>\n",
       "      <td>1.1</td>\n",
       "    </tr>\n",
       "    <tr>\n",
       "      <th>12</th>\n",
       "      <td>Sony SAB</td>\n",
       "      <td>83000000</td>\n",
       "      <td>1.0</td>\n",
       "    </tr>\n",
       "    <tr>\n",
       "      <th>13</th>\n",
       "      <td>5-Minute Crafts</td>\n",
       "      <td>80100000</td>\n",
       "      <td>1.0</td>\n",
       "    </tr>\n",
       "    <tr>\n",
       "      <th>14</th>\n",
       "      <td>BANGTANTV</td>\n",
       "      <td>75600000</td>\n",
       "      <td>0.9</td>\n",
       "    </tr>\n",
       "  </tbody>\n",
       "</table>\n",
       "</div>"
      ],
      "text/plain": [
       "                           채널명       구독자수  구독자 비율(%)\n",
       "0                     T-Series  245000000        3.1\n",
       "1                      MrBeast  166000000        2.1\n",
       "2   Cocomelon - Nursery Rhymes  162000000        2.0\n",
       "3                    SET India  159000000        2.0\n",
       "4            ✿ Kids Diana Show  112000000        1.4\n",
       "5                    PewDiePie  111000000        1.4\n",
       "6                  Like Nastya  106000000        1.3\n",
       "7                Vlad and Niki   98900000        1.2\n",
       "8            Zee Music Company   96700000        1.2\n",
       "9                          WWE   96000000        1.2\n",
       "10                   BLACKPINK   89800000        1.1\n",
       "11                   Goldmines   86900000        1.1\n",
       "12                    Sony SAB   83000000        1.0\n",
       "13             5-Minute Crafts   80100000        1.0\n",
       "14                   BANGTANTV   75600000        0.9"
      ]
     },
     "execution_count": 4,
     "metadata": {},
     "output_type": "execute_result"
    }
   ],
   "source": [
    "total = data['구독자수'].sum()\n",
    "data['구독자 비율(%)'] = round(data['구독자수'] / 8000000000 * 100, 1)\n",
    "\n",
    "mask = data['동영상 개수'] > 1\n",
    "columns = ['채널명', '구독자수', '구독자 비율(%)']\n",
    "influence = data.loc[mask, columns]\n",
    "influence = influence.reset_index(drop=True).head(15)\n",
    "influence"
   ]
  },
  {
   "cell_type": "markdown",
   "id": "08b14ea3",
   "metadata": {},
   "source": [
    "#### 세계적으로 미치는 영향\n",
    "- 유튜브 채널 한 개의 영향력이 전 세계인구(80억) 기준으로 최대 3% 까지 된다.\n",
    "- 우리나라 인구의 4~5배\n",
    "\n"
   ]
  },
  {
   "cell_type": "markdown",
   "id": "a250c5a3",
   "metadata": {},
   "source": [
    "#### 메모리 청소"
   ]
  },
  {
   "cell_type": "code",
   "execution_count": 5,
   "id": "b247f5cb",
   "metadata": {},
   "outputs": [
    {
     "data": {
      "text/plain": [
       "0"
      ]
     },
     "execution_count": 5,
     "metadata": {},
     "output_type": "execute_result"
    }
   ],
   "source": [
    "import gc # garbage collector : 필요없는 메모리를 다시 가져옴.\n",
    "gc.collect()"
   ]
  }
 ],
 "metadata": {
  "kernelspec": {
   "display_name": "Python 3 (ipykernel)",
   "language": "python",
   "name": "python3"
  },
  "language_info": {
   "codemirror_mode": {
    "name": "ipython",
    "version": 3
   },
   "file_extension": ".py",
   "mimetype": "text/x-python",
   "name": "python",
   "nbconvert_exporter": "python",
   "pygments_lexer": "ipython3",
   "version": "3.9.7"
  }
 },
 "nbformat": 4,
 "nbformat_minor": 5
}
